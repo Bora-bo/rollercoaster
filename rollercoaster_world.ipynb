{
 "cells": [
  {
   "cell_type": "code",
   "execution_count": 14,
   "id": "fcddb056",
   "metadata": {},
   "outputs": [
    {
     "name": "stdout",
     "output_type": "stream",
     "text": [
      "Welcome to rollercoaster world.\n",
      "How tall are you?\n",
      "121\n",
      "How old are you?\n",
      "18\n",
      "Pay $12\n",
      "Do you want your photo taken?\n",
      " Y or N \n",
      "Y\n",
      "Your total fee is $15\n"
     ]
    }
   ],
   "source": [
    "print(\"Welcome to rollercoaster world.\")\n",
    "height = int(input(\"How tall are you?\\n\"))\n",
    "price = 0\n",
    "\n",
    "if height >120:\n",
    "    #print(\"Enjoy your ride.\")\n",
    "    \n",
    "    age = int(input(\"How old are you?\\n\"))\n",
    "    if age <= 12:\n",
    "        print(\"Pay $5.\")\n",
    "        price = 5\n",
    "        \n",
    "    elif age < 18:\n",
    "        print(\"Pay $7.\")\n",
    "        price = 7\n",
    "        \n",
    "    elif age >= 45 and age <= 55:\n",
    "        print(\"Free!\")\n",
    "        \n",
    "    else:\n",
    "        print(\"Pay $12\")\n",
    "        price = 12\n",
    "        \n",
    "    \n",
    "        \n",
    "    photo = input(\"Do you want your photo taken?\\n Y or N \\n\")\n",
    "    price += 3\n",
    "    if photo == \"Y\":\n",
    "        print(f\"Your total fee is ${price}\")\n",
    "else:\n",
    "    print(\"You're not tall enough.\")"
   ]
  },
  {
   "cell_type": "code",
   "execution_count": 7,
   "id": "4c3937ce",
   "metadata": {},
   "outputs": [],
   "source": [
    "!jt -t monokai"
   ]
  }
 ],
 "metadata": {
  "kernelspec": {
   "display_name": "Python 3 (ipykernel)",
   "language": "python",
   "name": "python3"
  },
  "language_info": {
   "codemirror_mode": {
    "name": "ipython",
    "version": 3
   },
   "file_extension": ".py",
   "mimetype": "text/x-python",
   "name": "python",
   "nbconvert_exporter": "python",
   "pygments_lexer": "ipython3",
   "version": "3.9.13"
  }
 },
 "nbformat": 4,
 "nbformat_minor": 5
}
